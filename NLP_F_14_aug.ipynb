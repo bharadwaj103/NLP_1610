{
  "nbformat": 4,
  "nbformat_minor": 0,
  "metadata": {
    "colab": {
      "provenance": [],
      "authorship_tag": "ABX9TyMIEct4gQXpNgrzkZYA8aby",
      "include_colab_link": true
    },
    "kernelspec": {
      "name": "python3",
      "display_name": "Python 3"
    },
    "language_info": {
      "name": "python"
    }
  },
  "cells": [
    {
      "cell_type": "markdown",
      "metadata": {
        "id": "view-in-github",
        "colab_type": "text"
      },
      "source": [
        "<a href=\"https://colab.research.google.com/github/bharadwaj103/NLP_1610/blob/main/NLP_F_14_aug.ipynb\" target=\"_parent\"><img src=\"https://colab.research.google.com/assets/colab-badge.svg\" alt=\"Open In Colab\"/></a>"
      ]
    },
    {
      "cell_type": "code",
      "source": [
        "import pandas as pd\n",
        "url = 'https://files.consumerfinance.gov/ccdb/complaints.csv.zip'\n",
        "print(\"Loading data from URL...\")\n",
        "df_full = pd.read_csv(url, compression='zip', usecols=['Consumer complaint narrative'])\n",
        "print(\"Data loaded successfully!\")\n",
        "df_full.rename(columns={'Consumer complaint narrative': 'complaint_text'}, inplace=True)\n",
        "df_clean = df_full.dropna(subset=['complaint_text'])\n",
        "df = df_clean.head(25).copy()\n",
        "df['char_count'] = df['complaint_text'].astype(str).str.len()\n",
        "df['word_count'] = df['complaint_text'].astype(str).str.split().str.len()\n",
        "pd.set_option('display.max_colwidth', None)\n",
        "print(\"\\n--- First 25 Real Customer Complaints from CFPB Dataset URL ---\")\n",
        "display(df)"
      ],
      "metadata": {
        "id": "thqkGOQk7yI-"
      },
      "execution_count": null,
      "outputs": []
    }
  ]
}